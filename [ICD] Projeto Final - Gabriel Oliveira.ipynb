{
 "cells": [
  {
   "cell_type": "markdown",
   "metadata": {},
   "source": [
    "# Analisando Dados dos Relacionamentos no GitHub\n",
    "\n",
    "### Gabriel Pereira de Oliveira - Bacharelado em Ciência da Computação - DCC/UFMG\n",
    "\n",
    "Com a expansão da Internet e o acesso a serviços de banda larga, pessoas comuns têm à disposição uma gama de aplicativos e serviços online. Assim, **grandes volumes de dados são gerados diariamente**, podendo ser processados com os mais variados propósitos. Entre tantas opções, sem dúvidas um dos serviços mais populares é o de **redes sociais online**, que reunem milhões de pessoas com objetivos semelhantes ao redor do mundo. \n",
    "\n",
    "Tais redes não são apenas para diversão e conexões pessoais, mas também para **trabalho e conexões profissionais**. Por exemplo, o **[GitHub](http://github.com)** é uma das maiores plataformas online de desenvolvimento colaborativo de software do mundo, reunindo uma comunidade de mais de **28 milhões de desenvolvedores** reunidos em mais de **85 milhões de projetos em 337 linguagens de programação** (Junho de 2018). Dessa forma, devido ao grande volume de dados, técnicas de ciência de dados são muito importantes para trazer à tona informações e análises relevantes sobre a colaboração de software no GitHub, que inicialmente não poderiam ser percebidas olhando apenas para os dados puros.\n",
    "\n",
    "![GitHub Logo](images/github_logo.png)\n",
    "\n",
    "Neste trabalho, será explorada a criação da rede de colaboração entre usuários no GitHub, através de diversas técnicas de ciência dos dados."
   ]
  },
  {
   "cell_type": "markdown",
   "metadata": {},
   "source": [
    "## Base de Dados\n",
    "\n",
    "A base de dados..."
   ]
  },
  {
   "cell_type": "markdown",
   "metadata": {},
   "source": [
    "## Rede Social de Colaboração\n",
    "\n",
    "A rede será assim e assado..."
   ]
  },
  {
   "cell_type": "markdown",
   "metadata": {},
   "source": [
    "## Análise da Rede Social\n",
    "Nesta seção, analisaremos...\n",
    "\n",
    "### Primeiros números\n",
    "Número de nós, arestas, densidade"
   ]
  },
  {
   "cell_type": "code",
   "execution_count": 2,
   "metadata": {},
   "outputs": [],
   "source": [
    "import matplotlib.pyplot as plt\n",
    "import networkx as nx\n",
    "import numpy as np\n",
    "import powerlaw"
   ]
  },
  {
   "cell_type": "markdown",
   "metadata": {},
   "source": [
    "Neste projeto, vamos efetuar uma análise das redes de colaboração de **sete** linguagens de programação no GitHub. Tais linguagens foram escolhidas por serem de alta popularidade segundo o [TIOBE Index](https://www.tiobe.com/tiobe-index/) de março de 2016 e classificadas segundo seu nível de colaboração [(Rocha et al. 2016)](https://homepages.dcc.ufmg.br/~mirella/pdf/2016.SBBDshort.Rocha.pdf). As linguagens escolhidas são as seguintes:\n",
    "\n",
    "* **Linguagens mais colaborativas** \n",
    " * JavaScript (JS)\n",
    " * Python (PY)\n",
    " * Ruby (RB)\n",
    " \n",
    "* **Linguagens menos colaborativas** \n",
    " * Assembly (AS)\n",
    " * Pascal (PA)\n",
    " * Perl (PL)\n",
    " * Visual Basic (VB)\n",
    "\n",
    "Para cada uma das linguagens, foi gerado o respectivo grafo de colaboração, que pode ser baixado [aqui](https://drive.google.com/drive/folders/1lcb2yFkLG80-uLQIAcEt26rVPgqGvjVy?usp=sharing). Aqui, vamos trabalhar com o grafo não-ponderado, ou seja, as arestas não possuem peso. No entanto, o peso das arestas pode ser facilmente adicionado posteriormente."
   ]
  },
  {
   "cell_type": "code",
   "execution_count": 3,
   "metadata": {},
   "outputs": [],
   "source": [
    "languages = {\n",
    "    \"AS\": \"Assembly\",\n",
    "    \"JS\": \"JavaScript\",\n",
    "    \"PA\": \"Pascal\",\n",
    "    \"PL\": \"Perl\",\n",
    "    \"PY\": \"Python\",\n",
    "    #\"RB\": \"Ruby\",\n",
    "    \"VB\": \"Visual Basic\"\n",
    "}"
   ]
  },
  {
   "cell_type": "markdown",
   "metadata": {},
   "source": [
    "Inicialmente, para cada linguagem de programação, vamos calcular algumas métricas básicas de redes complexas para indicar algumas propriedades das redes existentes. O pacote `networkx` do Python nos ajudará bastante no cálculo das métricas e nas análises a serem feitas. As primeiras propriedades que vamos calcular são as seguintes:\n",
    "\n",
    "#### Número de Nós\n",
    "É ó número de vértices existentes no grafo. No contexto da rede de colaboração do GitHub, representa o número de desenvolvedores que colaboram em cada linguagem.\n",
    "\n",
    "#### Número de Arestas\n",
    "É ó número de arestas não-direcionadas existentes entre os nós no grafo. Aqui, pode representar o número de pares de desenvolvedores que colaboram entre si em cada linguagem de programação.\n",
    "\n",
    "#### Densidade\n",
    "É a razão entre a quantidade de arestas do grafo e a quantidade de arestas do grafo completo (onde todos os nós têm arestas entre si) com a mesma quantidade de vértices.\n",
    "\n",
    "#### Coeficiente de Clusterização Médio\n",
    "Este coeficiente mede o grau com que os nós de um grafo tendem a agrupar-se. Para cada nó $i$ de um grafo, seu coeficiente de clusterização é dado por:\n",
    "\n",
    "$$CC_i = \\frac{2L_i}{k_i(k_1 - 1)}$$\n",
    "\n",
    "$L_i$ representa o número de arestas entre os $k_i$ vizinhos de $i$. Um exemplo de cálculo do coeficiente de clusterização pode ser observado na figura abaixo.\n",
    "\n",
    "<img src=\"images/clustering_coefficient.png\" alt=\"CC\" width=\"450\"/>\n",
    "\n",
    "Dessa forma, podemos calcular o CC médio para todo o grafo através da fórmula\n",
    "\n",
    "$$CC = \\frac{1}{n}\\sum_{i \\in G} CC_i$$\n",
    "\n",
    "#### Tamanho do Componente Gigante"
   ]
  },
  {
   "cell_type": "code",
   "execution_count": 2,
   "metadata": {},
   "outputs": [
    {
     "name": "stdout",
     "output_type": "stream",
     "text": [
      "Generating network by reading edge list...\n",
      "Nodes: 519771\n",
      "Edges: 3699096\n",
      "Density: 2.7384344130634966e-05\n"
     ]
    }
   ],
   "source": [
    "# Lê lista de arestas e gera o grafo\n",
    "print(\"Generating network by reading edge list...\")\n",
    "G = nx.read_edgelist('data/PY_topological_network.csv', delimiter=',')\n",
    "\n",
    "# Primeiras estatísticas\n",
    "print(\"Nodes:\", nx.number_of_nodes(G))\n",
    "print(\"Edges:\", nx.number_of_edges(G))\n",
    "print(\"Density:\", nx.density(G))"
   ]
  },
  {
   "cell_type": "markdown",
   "metadata": {},
   "source": [
    "### Distribuição de graus\n",
    "\n",
    "A distribuição de grau dos nós da rede..."
   ]
  },
  {
   "cell_type": "code",
   "execution_count": 4,
   "metadata": {},
   "outputs": [
    {
     "name": "stdout",
     "output_type": "stream",
     "text": [
      "Plotting degree distribution...\n"
     ]
    },
    {
     "data": {
      "image/png": "[encoded data removed]",
      "text/plain": [
       "<Figure size 432x288 with 1 Axes>"
      ]
     },
     "metadata": {},
     "output_type": "display_data"
    }
   ],
   "source": [
    "# Gera distribuição de graus do grafo\n",
    "print(\"Plotting degree distribution...\")\n",
    "degs = {}\n",
    "for n in G.nodes():\n",
    "\tdeg = G.degree(n)\n",
    "\tif deg not in degs:\n",
    "\t\tdegs[deg] = 0\n",
    "\tdegs[deg] += 1\n",
    "\n",
    "items = sorted(degs.items())\n",
    "X = np.array([k for (k, v) in items])\n",
    "Y = np.array([v for (k, v) in items])\n",
    "fig = plt.figure()\n",
    "ax = fig.add_subplot(111)\n",
    "ax.plot(X, Y)\n",
    "ax.set_xlabel('Grau do nó')\n",
    "ax.set_ylabel('Quantidade de nós')\n",
    "\n",
    "# Plota gráfico normal\n",
    "plt.title(\"Network Degree Distribution\")\n",
    "fig.savefig(\"plots/degree_distribution.png\")"
   ]
  },
  {
   "cell_type": "markdown",
   "metadata": {},
   "source": [
    "A distribuição de graus dessa rede pode dizer que...\n",
    "\n",
    "Fazendo o gráfico log-log..."
   ]
  },
  {
   "cell_type": "code",
   "execution_count": 6,
   "metadata": {},
   "outputs": [
    {
     "name": "stderr",
     "output_type": "stream",
     "text": [
      "Values less than or equal to 0 in data. Throwing out 0 or negative values\n",
      "Calculating best minimal value for power law fit\n"
     ]
    },
    {
     "name": "stdout",
     "output_type": "stream",
     "text": [
      "Sigma 0.04992213470947602\n",
      "Alpha 1.6881291386438328\n"
     ]
    },
    {
     "data": {
      "image/png": "[encoded data removed]",
      "text/plain": [
       "<Figure size 432x288 with 1 Axes>"
      ]
     },
     "metadata": {},
     "output_type": "display_data"
    }
   ],
   "source": [
    "# Descobre coeficiente alpha da distribuição power-law -> p(k) = Ck^(-alpha)\n",
    "max_degree = max(degs.keys(), key=int)\n",
    "num_nodes = [] # Lista com o numero \n",
    "\n",
    "for i in range(1, max_degree + 1):\n",
    "    num_nodes.append(degs.get(i, 0))\n",
    "\n",
    "np.seterr(divide='ignore', invalid='ignore') # para não dar erro de divisão\n",
    "fit = powerlaw.Fit(num_nodes, discrete=True)\n",
    "sigma = fit.power_law.sigma\n",
    "alpha = fit.power_law.alpha\n",
    "\n",
    "fig = plt.figure()\n",
    "ax = fig.add_subplot(111)\n",
    "\n",
    "ax.set_xscale('log')\n",
    "ax.set_yscale('log')\n",
    "\n",
    "pl = lambda x: 300000*(x**(-alpha))\n",
    "ax.plot(X, Y)\n",
    "ax.plot(X, pl(X), 'r--')\n",
    "\n",
    "print(\"Sigma\", sigma)\n",
    "print(\"Alpha\", alpha)\n",
    "\n",
    "# Plota grafico log-log\n",
    "plt.title(\"Network Degree Distribution (Log scale)\")\n",
    "fig.savefig(\"plots/degree_distribution_loglog.png\")"
   ]
  },
  {
   "cell_type": "code",
   "execution_count": null,
   "metadata": {},
   "outputs": [],
   "source": []
  },
  {
   "cell_type": "code",
   "execution_count": null,
   "metadata": {},
   "outputs": [],
   "source": []
  },
  {
   "cell_type": "code",
   "execution_count": null,
   "metadata": {},
   "outputs": [],
   "source": []
  }
 ],
 "metadata": {
  "kernelspec": {
   "display_name": "Python 3",
   "language": "python",
   "name": "python3"
  },
  "language_info": {
   "codemirror_mode": {
    "name": "ipython",
    "version": 3
   },
   "file_extension": ".py",
   "mimetype": "text/x-python",
   "name": "python",
   "nbconvert_exporter": "python",
   "pygments_lexer": "ipython3",
   "version": "3.6.5"
  }
 },
 "nbformat": 4,
 "nbformat_minor": 2
}
